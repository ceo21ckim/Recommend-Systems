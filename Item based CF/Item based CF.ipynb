{
 "metadata": {
  "language_info": {
   "codemirror_mode": {
    "name": "ipython",
    "version": 3
   },
   "file_extension": ".py",
   "mimetype": "text/x-python",
   "name": "python",
   "nbconvert_exporter": "python",
   "pygments_lexer": "ipython3",
   "version": "3.8.5"
  },
  "orig_nbformat": 4,
  "kernelspec": {
   "name": "python3",
   "display_name": "Python 3.8.5 64-bit ('base': conda)"
  },
  "interpreter": {
   "hash": "96cf18f209edf6220e7043c3825950920f4c7ad96ff42ffae85e8b73f5a9541f"
  }
 },
 "nbformat": 4,
 "nbformat_minor": 2,
 "cells": [
  {
   "cell_type": "code",
   "execution_count": 2,
   "metadata": {},
   "outputs": [],
   "source": [
    "# User based Recommender Systems\n",
    "# Item based REcommender Systems\n",
    "\n",
    "import pandas as pd\n",
    "import numpy as np"
   ]
  },
  {
   "cell_type": "code",
   "execution_count": 3,
   "metadata": {},
   "outputs": [
    {
     "output_type": "execute_result",
     "data": {
      "text/plain": [
       "Index(['movieId', 'title', 'genres'], dtype='object')"
      ]
     },
     "metadata": {},
     "execution_count": 3
    }
   ],
   "source": [
    "movie = pd.read_csv('movie.csv')\n",
    "\n",
    "movie.columns # ['movieId', 'title', 'genres']"
   ]
  },
  {
   "cell_type": "code",
   "execution_count": 4,
   "metadata": {},
   "outputs": [],
   "source": [
    "movie = movie.iloc[:,:-1]"
   ]
  },
  {
   "cell_type": "code",
   "execution_count": 5,
   "metadata": {},
   "outputs": [],
   "source": [
    "rating = pd.read_csv('rating.csv')"
   ]
  },
  {
   "cell_type": "code",
   "execution_count": 6,
   "metadata": {},
   "outputs": [
    {
     "output_type": "execute_result",
     "data": {
      "text/plain": [
       "Index(['userId', 'movieId', 'rating', 'timestamp'], dtype='object')"
      ]
     },
     "metadata": {},
     "execution_count": 6
    }
   ],
   "source": [
    "rating.columns"
   ]
  },
  {
   "cell_type": "code",
   "execution_count": 7,
   "metadata": {},
   "outputs": [],
   "source": [
    "rating = rating.iloc[:,:-1]"
   ]
  },
  {
   "source": [
    "- movieId 기준으로 dataframe 을 합쳐준다."
   ],
   "cell_type": "markdown",
   "metadata": {}
  },
  {
   "cell_type": "code",
   "execution_count": 8,
   "metadata": {},
   "outputs": [],
   "source": [
    "data = pd.merge(movie, rating)"
   ]
  },
  {
   "source": [
    "- item based recommender system\n",
    "- dataframe is too much. Therefore, use 1,000,000 sample in data"
   ],
   "cell_type": "markdown",
   "metadata": {}
  },
  {
   "cell_type": "code",
   "execution_count": 29,
   "metadata": {},
   "outputs": [
    {
     "output_type": "execute_result",
     "data": {
      "text/plain": [
       "(20000263, 4)"
      ]
     },
     "metadata": {},
     "execution_count": 29
    }
   ],
   "source": [
    "data.shape # 20,000,000 sample in data"
   ]
  },
  {
   "cell_type": "code",
   "execution_count": 30,
   "metadata": {},
   "outputs": [
    {
     "output_type": "execute_result",
     "data": {
      "text/plain": [
       "        movieId                           title  userId  rating\n",
       "0             1                Toy Story (1995)       3     4.0\n",
       "1             1                Toy Story (1995)       6     5.0\n",
       "2             1                Toy Story (1995)       8     4.0\n",
       "3             1                Toy Story (1995)      10     4.0\n",
       "4             1                Toy Story (1995)      11     4.5\n",
       "...         ...                             ...     ...     ...\n",
       "999995      147  Basketball Diaries, The (1995)   93300     4.0\n",
       "999996      147  Basketball Diaries, The (1995)   93365     3.0\n",
       "999997      147  Basketball Diaries, The (1995)   93411     2.5\n",
       "999998      147  Basketball Diaries, The (1995)   93476     3.0\n",
       "999999      147  Basketball Diaries, The (1995)   93478     5.0\n",
       "\n",
       "[1000000 rows x 4 columns]"
      ],
      "text/html": "<div>\n<style scoped>\n    .dataframe tbody tr th:only-of-type {\n        vertical-align: middle;\n    }\n\n    .dataframe tbody tr th {\n        vertical-align: top;\n    }\n\n    .dataframe thead th {\n        text-align: right;\n    }\n</style>\n<table border=\"1\" class=\"dataframe\">\n  <thead>\n    <tr style=\"text-align: right;\">\n      <th></th>\n      <th>movieId</th>\n      <th>title</th>\n      <th>userId</th>\n      <th>rating</th>\n    </tr>\n  </thead>\n  <tbody>\n    <tr>\n      <th>0</th>\n      <td>1</td>\n      <td>Toy Story (1995)</td>\n      <td>3</td>\n      <td>4.0</td>\n    </tr>\n    <tr>\n      <th>1</th>\n      <td>1</td>\n      <td>Toy Story (1995)</td>\n      <td>6</td>\n      <td>5.0</td>\n    </tr>\n    <tr>\n      <th>2</th>\n      <td>1</td>\n      <td>Toy Story (1995)</td>\n      <td>8</td>\n      <td>4.0</td>\n    </tr>\n    <tr>\n      <th>3</th>\n      <td>1</td>\n      <td>Toy Story (1995)</td>\n      <td>10</td>\n      <td>4.0</td>\n    </tr>\n    <tr>\n      <th>4</th>\n      <td>1</td>\n      <td>Toy Story (1995)</td>\n      <td>11</td>\n      <td>4.5</td>\n    </tr>\n    <tr>\n      <th>...</th>\n      <td>...</td>\n      <td>...</td>\n      <td>...</td>\n      <td>...</td>\n    </tr>\n    <tr>\n      <th>999995</th>\n      <td>147</td>\n      <td>Basketball Diaries, The (1995)</td>\n      <td>93300</td>\n      <td>4.0</td>\n    </tr>\n    <tr>\n      <th>999996</th>\n      <td>147</td>\n      <td>Basketball Diaries, The (1995)</td>\n      <td>93365</td>\n      <td>3.0</td>\n    </tr>\n    <tr>\n      <th>999997</th>\n      <td>147</td>\n      <td>Basketball Diaries, The (1995)</td>\n      <td>93411</td>\n      <td>2.5</td>\n    </tr>\n    <tr>\n      <th>999998</th>\n      <td>147</td>\n      <td>Basketball Diaries, The (1995)</td>\n      <td>93476</td>\n      <td>3.0</td>\n    </tr>\n    <tr>\n      <th>999999</th>\n      <td>147</td>\n      <td>Basketball Diaries, The (1995)</td>\n      <td>93478</td>\n      <td>5.0</td>\n    </tr>\n  </tbody>\n</table>\n<p>1000000 rows × 4 columns</p>\n</div>"
     },
     "metadata": {},
     "execution_count": 30
    }
   ],
   "source": [
    "data = data.iloc[:1000000, :]\n",
    "data"
   ]
  },
  {
   "cell_type": "code",
   "execution_count": 32,
   "metadata": {},
   "outputs": [
    {
     "output_type": "execute_result",
     "data": {
      "text/plain": [
       "(1000000, 4)"
      ]
     },
     "metadata": {},
     "execution_count": 32
    }
   ],
   "source": [
    "data.shape"
   ]
  },
  {
   "source": [
    "- rows are users, columns are movies and values are ratings\n",
    "- new users에 대해 특정 영화와 유사한 영화를 추천해주려고 한다."
   ],
   "cell_type": "markdown",
   "metadata": {}
  },
  {
   "cell_type": "code",
   "execution_count": 139,
   "metadata": {},
   "outputs": [
    {
     "output_type": "execute_result",
     "data": {
      "text/plain": [
       "title   Ace Ventura: When Nature Calls (1995)  Across the Sea of Time (1995)  \\\n",
       "userId                                                                         \n",
       "1                                         NaN                            NaN   \n",
       "2                                         NaN                            NaN   \n",
       "3                                         NaN                            NaN   \n",
       "4                                         3.0                            NaN   \n",
       "5                                         NaN                            NaN   \n",
       "...                                       ...                            ...   \n",
       "138489                                    NaN                            NaN   \n",
       "138490                                    NaN                            NaN   \n",
       "138491                                    NaN                            NaN   \n",
       "138492                                    NaN                            NaN   \n",
       "138493                                    4.0                            NaN   \n",
       "\n",
       "title   Amazing Panda Adventure, The (1995)  American President, The (1995)  \\\n",
       "userId                                                                        \n",
       "1                                       NaN                             NaN   \n",
       "2                                       NaN                             NaN   \n",
       "3                                       NaN                             NaN   \n",
       "4                                       NaN                             NaN   \n",
       "5                                       NaN                             5.0   \n",
       "...                                     ...                             ...   \n",
       "138489                                  NaN                             NaN   \n",
       "138490                                  NaN                             NaN   \n",
       "138491                                  NaN                             NaN   \n",
       "138492                                  NaN                             NaN   \n",
       "138493                                  NaN                             NaN   \n",
       "\n",
       "title   Angela (1995)  Angels and Insects (1995)  \\\n",
       "userId                                             \n",
       "1                 NaN                        NaN   \n",
       "2                 NaN                        NaN   \n",
       "3                 NaN                        NaN   \n",
       "4                 NaN                        NaN   \n",
       "5                 NaN                        NaN   \n",
       "...               ...                        ...   \n",
       "138489            NaN                        NaN   \n",
       "138490            NaN                        4.0   \n",
       "138491            NaN                        NaN   \n",
       "138492            NaN                        NaN   \n",
       "138493            NaN                        NaN   \n",
       "\n",
       "title   Anne Frank Remembered (1995)  Antonia's Line (Antonia) (1995)  \\\n",
       "userId                                                                  \n",
       "1                                NaN                              NaN   \n",
       "2                                NaN                              NaN   \n",
       "3                                NaN                              NaN   \n",
       "4                                NaN                              NaN   \n",
       "5                                NaN                              NaN   \n",
       "...                              ...                              ...   \n",
       "138489                           NaN                              NaN   \n",
       "138490                           NaN                              3.0   \n",
       "138491                           NaN                              NaN   \n",
       "138492                           NaN                              NaN   \n",
       "138493                           NaN                              NaN   \n",
       "\n",
       "title   Assassins (1995)  Babe (1995)  ...  Unforgettable (1996)  \\\n",
       "userId                                 ...                         \n",
       "1                    NaN          NaN  ...                   NaN   \n",
       "2                    NaN          NaN  ...                   NaN   \n",
       "3                    NaN          NaN  ...                   NaN   \n",
       "4                    NaN          NaN  ...                   NaN   \n",
       "5                    NaN          NaN  ...                   NaN   \n",
       "...                  ...          ...  ...                   ...   \n",
       "138489               NaN          NaN  ...                   NaN   \n",
       "138490               NaN          5.0  ...                   NaN   \n",
       "138491               NaN          NaN  ...                   NaN   \n",
       "138492               NaN          NaN  ...                   NaN   \n",
       "138493               NaN          3.0  ...                   NaN   \n",
       "\n",
       "title   Up Close and Personal (1996)  Usual Suspects, The (1995)  \\\n",
       "userId                                                             \n",
       "1                                NaN                         3.5   \n",
       "2                                NaN                         NaN   \n",
       "3                                NaN                         5.0   \n",
       "4                                NaN                         NaN   \n",
       "5                                2.0                         NaN   \n",
       "...                              ...                         ...   \n",
       "138489                           NaN                         4.5   \n",
       "138490                           NaN                         NaN   \n",
       "138491                           NaN                         NaN   \n",
       "138492                           NaN                         NaN   \n",
       "138493                           NaN                         NaN   \n",
       "\n",
       "title   Vampire in Brooklyn (1995)  Waiting to Exhale (1995)  \\\n",
       "userId                                                         \n",
       "1                              NaN                       NaN   \n",
       "2                              NaN                       NaN   \n",
       "3                              NaN                       NaN   \n",
       "4                              NaN                       NaN   \n",
       "5                              NaN                       NaN   \n",
       "...                            ...                       ...   \n",
       "138489                         NaN                       NaN   \n",
       "138490                         NaN                       NaN   \n",
       "138491                         NaN                       NaN   \n",
       "138492                         NaN                       NaN   \n",
       "138493                         NaN                       NaN   \n",
       "\n",
       "title   When Night Is Falling (1995)  \\\n",
       "userId                                 \n",
       "1                                NaN   \n",
       "2                                NaN   \n",
       "3                                NaN   \n",
       "4                                NaN   \n",
       "5                                NaN   \n",
       "...                              ...   \n",
       "138489                           NaN   \n",
       "138490                           NaN   \n",
       "138491                           NaN   \n",
       "138492                           NaN   \n",
       "138493                           NaN   \n",
       "\n",
       "title   White Balloon, The (Badkonake sefid) (1995)  White Squall (1996)  \\\n",
       "userId                                                                     \n",
       "1                                               NaN                  NaN   \n",
       "2                                               NaN                  NaN   \n",
       "3                                               NaN                  NaN   \n",
       "4                                               NaN                  NaN   \n",
       "5                                               NaN                  NaN   \n",
       "...                                             ...                  ...   \n",
       "138489                                          NaN                  NaN   \n",
       "138490                                          NaN                  NaN   \n",
       "138491                                          NaN                  NaN   \n",
       "138492                                          NaN                  NaN   \n",
       "138493                                          NaN                  NaN   \n",
       "\n",
       "title   Wings of Courage (1995)  Young Poisoner's Handbook, The (1995)  \n",
       "userId                                                                  \n",
       "1                           NaN                                    NaN  \n",
       "2                           NaN                                    NaN  \n",
       "3                           NaN                                    NaN  \n",
       "4                           NaN                                    NaN  \n",
       "5                           NaN                                    NaN  \n",
       "...                         ...                                    ...  \n",
       "138489                      NaN                                    NaN  \n",
       "138490                      NaN                                    NaN  \n",
       "138491                      NaN                                    NaN  \n",
       "138492                      NaN                                    NaN  \n",
       "138493                      NaN                                    NaN  \n",
       "\n",
       "[123161 rows x 146 columns]"
      ],
      "text/html": "<div>\n<style scoped>\n    .dataframe tbody tr th:only-of-type {\n        vertical-align: middle;\n    }\n\n    .dataframe tbody tr th {\n        vertical-align: top;\n    }\n\n    .dataframe thead th {\n        text-align: right;\n    }\n</style>\n<table border=\"1\" class=\"dataframe\">\n  <thead>\n    <tr style=\"text-align: right;\">\n      <th>title</th>\n      <th>Ace Ventura: When Nature Calls (1995)</th>\n      <th>Across the Sea of Time (1995)</th>\n      <th>Amazing Panda Adventure, The (1995)</th>\n      <th>American President, The (1995)</th>\n      <th>Angela (1995)</th>\n      <th>Angels and Insects (1995)</th>\n      <th>Anne Frank Remembered (1995)</th>\n      <th>Antonia's Line (Antonia) (1995)</th>\n      <th>Assassins (1995)</th>\n      <th>Babe (1995)</th>\n      <th>...</th>\n      <th>Unforgettable (1996)</th>\n      <th>Up Close and Personal (1996)</th>\n      <th>Usual Suspects, The (1995)</th>\n      <th>Vampire in Brooklyn (1995)</th>\n      <th>Waiting to Exhale (1995)</th>\n      <th>When Night Is Falling (1995)</th>\n      <th>White Balloon, The (Badkonake sefid) (1995)</th>\n      <th>White Squall (1996)</th>\n      <th>Wings of Courage (1995)</th>\n      <th>Young Poisoner's Handbook, The (1995)</th>\n    </tr>\n    <tr>\n      <th>userId</th>\n      <th></th>\n      <th></th>\n      <th></th>\n      <th></th>\n      <th></th>\n      <th></th>\n      <th></th>\n      <th></th>\n      <th></th>\n      <th></th>\n      <th></th>\n      <th></th>\n      <th></th>\n      <th></th>\n      <th></th>\n      <th></th>\n      <th></th>\n      <th></th>\n      <th></th>\n      <th></th>\n      <th></th>\n    </tr>\n  </thead>\n  <tbody>\n    <tr>\n      <th>1</th>\n      <td>NaN</td>\n      <td>NaN</td>\n      <td>NaN</td>\n      <td>NaN</td>\n      <td>NaN</td>\n      <td>NaN</td>\n      <td>NaN</td>\n      <td>NaN</td>\n      <td>NaN</td>\n      <td>NaN</td>\n      <td>...</td>\n      <td>NaN</td>\n      <td>NaN</td>\n      <td>3.5</td>\n      <td>NaN</td>\n      <td>NaN</td>\n      <td>NaN</td>\n      <td>NaN</td>\n      <td>NaN</td>\n      <td>NaN</td>\n      <td>NaN</td>\n    </tr>\n    <tr>\n      <th>2</th>\n      <td>NaN</td>\n      <td>NaN</td>\n      <td>NaN</td>\n      <td>NaN</td>\n      <td>NaN</td>\n      <td>NaN</td>\n      <td>NaN</td>\n      <td>NaN</td>\n      <td>NaN</td>\n      <td>NaN</td>\n      <td>...</td>\n      <td>NaN</td>\n      <td>NaN</td>\n      <td>NaN</td>\n      <td>NaN</td>\n      <td>NaN</td>\n      <td>NaN</td>\n      <td>NaN</td>\n      <td>NaN</td>\n      <td>NaN</td>\n      <td>NaN</td>\n    </tr>\n    <tr>\n      <th>3</th>\n      <td>NaN</td>\n      <td>NaN</td>\n      <td>NaN</td>\n      <td>NaN</td>\n      <td>NaN</td>\n      <td>NaN</td>\n      <td>NaN</td>\n      <td>NaN</td>\n      <td>NaN</td>\n      <td>NaN</td>\n      <td>...</td>\n      <td>NaN</td>\n      <td>NaN</td>\n      <td>5.0</td>\n      <td>NaN</td>\n      <td>NaN</td>\n      <td>NaN</td>\n      <td>NaN</td>\n      <td>NaN</td>\n      <td>NaN</td>\n      <td>NaN</td>\n    </tr>\n    <tr>\n      <th>4</th>\n      <td>3.0</td>\n      <td>NaN</td>\n      <td>NaN</td>\n      <td>NaN</td>\n      <td>NaN</td>\n      <td>NaN</td>\n      <td>NaN</td>\n      <td>NaN</td>\n      <td>NaN</td>\n      <td>NaN</td>\n      <td>...</td>\n      <td>NaN</td>\n      <td>NaN</td>\n      <td>NaN</td>\n      <td>NaN</td>\n      <td>NaN</td>\n      <td>NaN</td>\n      <td>NaN</td>\n      <td>NaN</td>\n      <td>NaN</td>\n      <td>NaN</td>\n    </tr>\n    <tr>\n      <th>5</th>\n      <td>NaN</td>\n      <td>NaN</td>\n      <td>NaN</td>\n      <td>5.0</td>\n      <td>NaN</td>\n      <td>NaN</td>\n      <td>NaN</td>\n      <td>NaN</td>\n      <td>NaN</td>\n      <td>NaN</td>\n      <td>...</td>\n      <td>NaN</td>\n      <td>2.0</td>\n      <td>NaN</td>\n      <td>NaN</td>\n      <td>NaN</td>\n      <td>NaN</td>\n      <td>NaN</td>\n      <td>NaN</td>\n      <td>NaN</td>\n      <td>NaN</td>\n    </tr>\n    <tr>\n      <th>...</th>\n      <td>...</td>\n      <td>...</td>\n      <td>...</td>\n      <td>...</td>\n      <td>...</td>\n      <td>...</td>\n      <td>...</td>\n      <td>...</td>\n      <td>...</td>\n      <td>...</td>\n      <td>...</td>\n      <td>...</td>\n      <td>...</td>\n      <td>...</td>\n      <td>...</td>\n      <td>...</td>\n      <td>...</td>\n      <td>...</td>\n      <td>...</td>\n      <td>...</td>\n      <td>...</td>\n    </tr>\n    <tr>\n      <th>138489</th>\n      <td>NaN</td>\n      <td>NaN</td>\n      <td>NaN</td>\n      <td>NaN</td>\n      <td>NaN</td>\n      <td>NaN</td>\n      <td>NaN</td>\n      <td>NaN</td>\n      <td>NaN</td>\n      <td>NaN</td>\n      <td>...</td>\n      <td>NaN</td>\n      <td>NaN</td>\n      <td>4.5</td>\n      <td>NaN</td>\n      <td>NaN</td>\n      <td>NaN</td>\n      <td>NaN</td>\n      <td>NaN</td>\n      <td>NaN</td>\n      <td>NaN</td>\n    </tr>\n    <tr>\n      <th>138490</th>\n      <td>NaN</td>\n      <td>NaN</td>\n      <td>NaN</td>\n      <td>NaN</td>\n      <td>NaN</td>\n      <td>4.0</td>\n      <td>NaN</td>\n      <td>3.0</td>\n      <td>NaN</td>\n      <td>5.0</td>\n      <td>...</td>\n      <td>NaN</td>\n      <td>NaN</td>\n      <td>NaN</td>\n      <td>NaN</td>\n      <td>NaN</td>\n      <td>NaN</td>\n      <td>NaN</td>\n      <td>NaN</td>\n      <td>NaN</td>\n      <td>NaN</td>\n    </tr>\n    <tr>\n      <th>138491</th>\n      <td>NaN</td>\n      <td>NaN</td>\n      <td>NaN</td>\n      <td>NaN</td>\n      <td>NaN</td>\n      <td>NaN</td>\n      <td>NaN</td>\n      <td>NaN</td>\n      <td>NaN</td>\n      <td>NaN</td>\n      <td>...</td>\n      <td>NaN</td>\n      <td>NaN</td>\n      <td>NaN</td>\n      <td>NaN</td>\n      <td>NaN</td>\n      <td>NaN</td>\n      <td>NaN</td>\n      <td>NaN</td>\n      <td>NaN</td>\n      <td>NaN</td>\n    </tr>\n    <tr>\n      <th>138492</th>\n      <td>NaN</td>\n      <td>NaN</td>\n      <td>NaN</td>\n      <td>NaN</td>\n      <td>NaN</td>\n      <td>NaN</td>\n      <td>NaN</td>\n      <td>NaN</td>\n      <td>NaN</td>\n      <td>NaN</td>\n      <td>...</td>\n      <td>NaN</td>\n      <td>NaN</td>\n      <td>NaN</td>\n      <td>NaN</td>\n      <td>NaN</td>\n      <td>NaN</td>\n      <td>NaN</td>\n      <td>NaN</td>\n      <td>NaN</td>\n      <td>NaN</td>\n    </tr>\n    <tr>\n      <th>138493</th>\n      <td>4.0</td>\n      <td>NaN</td>\n      <td>NaN</td>\n      <td>NaN</td>\n      <td>NaN</td>\n      <td>NaN</td>\n      <td>NaN</td>\n      <td>NaN</td>\n      <td>NaN</td>\n      <td>3.0</td>\n      <td>...</td>\n      <td>NaN</td>\n      <td>NaN</td>\n      <td>NaN</td>\n      <td>NaN</td>\n      <td>NaN</td>\n      <td>NaN</td>\n      <td>NaN</td>\n      <td>NaN</td>\n      <td>NaN</td>\n      <td>NaN</td>\n    </tr>\n  </tbody>\n</table>\n<p>123161 rows × 146 columns</p>\n</div>"
     },
     "metadata": {},
     "execution_count": 139
    }
   ],
   "source": [
    "pivot_table = data.pivot_table(index = ['userId'], columns = ['title'], values = 'rating')\n",
    "pivot_table"
   ]
  },
  {
   "cell_type": "code",
   "execution_count": 140,
   "metadata": {},
   "outputs": [],
   "source": [
    "corr = pivot_table.corr()"
   ]
  },
  {
   "cell_type": "code",
   "execution_count": 144,
   "metadata": {},
   "outputs": [],
   "source": [
    "target = corr.stack().sort_values(ascending= False)"
   ]
  },
  {
   "cell_type": "code",
   "execution_count": 153,
   "metadata": {},
   "outputs": [
    {
     "output_type": "execute_result",
     "data": {
      "text/plain": [
       "title                                                           title                                  \n",
       "Young Poisoner's Handbook, The (1995)                           Young Poisoner's Handbook, The (1995)      1.0\n",
       "Nixon (1995)                                                    Nixon (1995)                               1.0\n",
       "Nico Icon (1995)                                                Guardian Angel (1994)                      1.0\n",
       "Nick of Time (1995)                                             Sonic Outlaws (1995)                       1.0\n",
       "                                                                Nick of Time (1995)                        1.0\n",
       "                                                                                                          ... \n",
       "Man of the Year (1995)                                          Headless Body in Topless Bar (1995)       -1.0\n",
       "Shopping (1994)                                                 From the Journals of Jean Seberg (1995)   -1.0\n",
       "Happiness Is in the Field (Bonheur est dans le pré, Le) (1995)  Catwalk (1996)                            -1.0\n",
       "Star Maker, The (Uomo delle stelle, L') (1995)                  Headless Body in Topless Bar (1995)       -1.0\n",
       "Angela (1995)                                                   Neon Bible, The (1995)                    -1.0\n",
       "Length: 21060, dtype: float64"
      ]
     },
     "metadata": {},
     "execution_count": 153
    }
   ],
   "source": [
    "target"
   ]
  },
  {
   "cell_type": "code",
   "execution_count": 157,
   "metadata": {},
   "outputs": [
    {
     "output_type": "execute_result",
     "data": {
      "text/plain": [
       "(('Muppet Treasure Island (1996)', 'Headless Body in Topless Bar (1995)'),\n",
       " 0.9971764649527379)"
      ]
     },
     "metadata": {},
     "execution_count": 157
    }
   ],
   "source": [
    "target.loc[target != 1].index[0], target.loc[target != 1][0]"
   ]
  },
  {
   "cell_type": "code",
   "execution_count": 165,
   "metadata": {},
   "outputs": [
    {
     "output_type": "execute_result",
     "data": {
      "text/plain": [
       "title                                                           title                                                         \n",
       "Muppet Treasure Island (1996)                                   Headless Body in Topless Bar (1995)                               0.997176\n",
       "Headless Body in Topless Bar (1995)                             Muppet Treasure Island (1996)                                     0.997176\n",
       "In the Bleak Midwinter (1995)                                   Happiness Is in the Field (Bonheur est dans le pré, Le) (1995)    0.985901\n",
       "Happiness Is in the Field (Bonheur est dans le pré, Le) (1995)  In the Bleak Midwinter (1995)                                     0.985901\n",
       "                                                                Shadows (Cienie) (1988)                                           0.984111\n",
       "                                                                                                                                    ...   \n",
       "Man of the Year (1995)                                          Headless Body in Topless Bar (1995)                              -1.000000\n",
       "Shopping (1994)                                                 From the Journals of Jean Seberg (1995)                          -1.000000\n",
       "Happiness Is in the Field (Bonheur est dans le pré, Le) (1995)  Catwalk (1996)                                                   -1.000000\n",
       "Star Maker, The (Uomo delle stelle, L') (1995)                  Headless Body in Topless Bar (1995)                              -1.000000\n",
       "Angela (1995)                                                   Neon Bible, The (1995)                                           -1.000000\n",
       "Length: 20746, dtype: float64"
      ]
     },
     "metadata": {},
     "execution_count": 165
    }
   ],
   "source": [
    "target.loc[target != 1]"
   ]
  },
  {
   "cell_type": "code",
   "execution_count": 161,
   "metadata": {
    "tags": []
   },
   "outputs": [],
   "source": [
    "movie1, movie2= [], []\n",
    "for i, movie in enumerate(target.loc[target != 1].index):\n",
    "    movie1.append(movie[0])\n",
    "    movie2.append(movie[1])\n",
    "\n"
   ]
  },
  {
   "cell_type": "code",
   "execution_count": 163,
   "metadata": {},
   "outputs": [
    {
     "output_type": "execute_result",
     "data": {
      "text/plain": [
       "['Muppet Treasure Island (1996)',\n",
       " 'Headless Body in Topless Bar (1995)',\n",
       " 'In the Bleak Midwinter (1995)',\n",
       " 'Happiness Is in the Field (Bonheur est dans le pré, Le) (1995)',\n",
       " 'Happiness Is in the Field (Bonheur est dans le pré, Le) (1995)']"
      ]
     },
     "metadata": {},
     "execution_count": 163
    }
   ],
   "source": [
    "movie1[:5]"
   ]
  },
  {
   "cell_type": "code",
   "execution_count": 164,
   "metadata": {},
   "outputs": [
    {
     "output_type": "execute_result",
     "data": {
      "text/plain": [
       "['Headless Body in Topless Bar (1995)',\n",
       " 'Muppet Treasure Island (1996)',\n",
       " 'Happiness Is in the Field (Bonheur est dans le pré, Le) (1995)',\n",
       " 'In the Bleak Midwinter (1995)',\n",
       " 'Shadows (Cienie) (1988)']"
      ]
     },
     "metadata": {},
     "execution_count": 164
    }
   ],
   "source": [
    "movie2[:5]"
   ]
  },
  {
   "cell_type": "code",
   "execution_count": 167,
   "metadata": {},
   "outputs": [
    {
     "output_type": "execute_result",
     "data": {
      "text/plain": [
       "array([ 0.99717646,  0.99717646,  0.9859006 , ..., -1.        ,\n",
       "       -1.        , -1.        ])"
      ]
     },
     "metadata": {},
     "execution_count": 167
    }
   ],
   "source": [
    "cor = target.loc[target != 1].values\n",
    "cor"
   ]
  },
  {
   "cell_type": "code",
   "execution_count": 179,
   "metadata": {},
   "outputs": [],
   "source": [
    "dic = {\n",
    "    'movie1' : movie1,\n",
    "    'movie2' : movie2,\n",
    "    'correlation' : cor}\n",
    "result = pd.DataFrame(dic)"
   ]
  },
  {
   "cell_type": "code",
   "execution_count": 181,
   "metadata": {},
   "outputs": [
    {
     "output_type": "execute_result",
     "data": {
      "text/plain": [
       "                                              movie1  \\\n",
       "0                      Muppet Treasure Island (1996)   \n",
       "1                Headless Body in Topless Bar (1995)   \n",
       "2                      In the Bleak Midwinter (1995)   \n",
       "3  Happiness Is in the Field (Bonheur est dans le...   \n",
       "4  Happiness Is in the Field (Bonheur est dans le...   \n",
       "5                            Shadows (Cienie) (1988)   \n",
       "6                             Dead Presidents (1995)   \n",
       "7                                       Gospa (1995)   \n",
       "8  Happiness Is in the Field (Bonheur est dans le...   \n",
       "9                                Now and Then (1995)   \n",
       "\n",
       "                                              movie2  correlation  \n",
       "0                Headless Body in Topless Bar (1995)     0.997176  \n",
       "1                      Muppet Treasure Island (1996)     0.997176  \n",
       "2  Happiness Is in the Field (Bonheur est dans le...     0.985901  \n",
       "3                      In the Bleak Midwinter (1995)     0.985901  \n",
       "4                            Shadows (Cienie) (1988)     0.984111  \n",
       "5  Happiness Is in the Field (Bonheur est dans le...     0.984111  \n",
       "6                                       Gospa (1995)     0.984063  \n",
       "7                             Dead Presidents (1995)     0.984063  \n",
       "8                                Now and Then (1995)     0.981981  \n",
       "9  Happiness Is in the Field (Bonheur est dans le...     0.981981  "
      ],
      "text/html": "<div>\n<style scoped>\n    .dataframe tbody tr th:only-of-type {\n        vertical-align: middle;\n    }\n\n    .dataframe tbody tr th {\n        vertical-align: top;\n    }\n\n    .dataframe thead th {\n        text-align: right;\n    }\n</style>\n<table border=\"1\" class=\"dataframe\">\n  <thead>\n    <tr style=\"text-align: right;\">\n      <th></th>\n      <th>movie1</th>\n      <th>movie2</th>\n      <th>correlation</th>\n    </tr>\n  </thead>\n  <tbody>\n    <tr>\n      <th>0</th>\n      <td>Muppet Treasure Island (1996)</td>\n      <td>Headless Body in Topless Bar (1995)</td>\n      <td>0.997176</td>\n    </tr>\n    <tr>\n      <th>1</th>\n      <td>Headless Body in Topless Bar (1995)</td>\n      <td>Muppet Treasure Island (1996)</td>\n      <td>0.997176</td>\n    </tr>\n    <tr>\n      <th>2</th>\n      <td>In the Bleak Midwinter (1995)</td>\n      <td>Happiness Is in the Field (Bonheur est dans le...</td>\n      <td>0.985901</td>\n    </tr>\n    <tr>\n      <th>3</th>\n      <td>Happiness Is in the Field (Bonheur est dans le...</td>\n      <td>In the Bleak Midwinter (1995)</td>\n      <td>0.985901</td>\n    </tr>\n    <tr>\n      <th>4</th>\n      <td>Happiness Is in the Field (Bonheur est dans le...</td>\n      <td>Shadows (Cienie) (1988)</td>\n      <td>0.984111</td>\n    </tr>\n    <tr>\n      <th>5</th>\n      <td>Shadows (Cienie) (1988)</td>\n      <td>Happiness Is in the Field (Bonheur est dans le...</td>\n      <td>0.984111</td>\n    </tr>\n    <tr>\n      <th>6</th>\n      <td>Dead Presidents (1995)</td>\n      <td>Gospa (1995)</td>\n      <td>0.984063</td>\n    </tr>\n    <tr>\n      <th>7</th>\n      <td>Gospa (1995)</td>\n      <td>Dead Presidents (1995)</td>\n      <td>0.984063</td>\n    </tr>\n    <tr>\n      <th>8</th>\n      <td>Happiness Is in the Field (Bonheur est dans le...</td>\n      <td>Now and Then (1995)</td>\n      <td>0.981981</td>\n    </tr>\n    <tr>\n      <th>9</th>\n      <td>Now and Then (1995)</td>\n      <td>Happiness Is in the Field (Bonheur est dans le...</td>\n      <td>0.981981</td>\n    </tr>\n  </tbody>\n</table>\n</div>"
     },
     "metadata": {},
     "execution_count": 181
    }
   ],
   "source": [
    "result.head(10)"
   ]
  },
  {
   "cell_type": "code",
   "execution_count": null,
   "metadata": {},
   "outputs": [],
   "source": []
  }
 ]
}