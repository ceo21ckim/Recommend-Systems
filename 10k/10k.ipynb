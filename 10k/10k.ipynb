{
 "cells": [
  {
   "cell_type": "code",
   "execution_count": 8,
   "source": [
    "import pandas as pd\r\n",
    "import numpy as np \r\n",
    "from tqdm.notebook import tqdm\r\n",
    "import os, sys "
   ],
   "outputs": [],
   "metadata": {}
  },
  {
   "cell_type": "code",
   "execution_count": 3,
   "source": [
    "os.getcwd()"
   ],
   "outputs": [
    {
     "output_type": "execute_result",
     "data": {
      "text/plain": [
       "'c:\\\\Users\\\\EonKim\\\\Desktop\\\\github\\\\Recommend System\\\\10k'"
      ]
     },
     "metadata": {},
     "execution_count": 3
    }
   ],
   "metadata": {}
  },
  {
   "cell_type": "code",
   "execution_count": 23,
   "source": [
    "books = pd.read_csv('dataset\\\\books.csv')\r\n",
    "book_tags = pd.read_csv('dataset\\\\book_tags.csv')\r\n",
    "ratings = pd.read_csv('dataset\\\\ratings.csv')\r\n",
    "test = pd.read_csv('dataset/test.csv')\r\n",
    "train = pd.read_csv('dataset/train.csv')\r\n",
    "tags = pd.read_csv('dataset\\\\tags.csv')\r\n",
    "to_read = pd.read_csv('dataset\\\\to_read.csv')"
   ],
   "outputs": [],
   "metadata": {}
  },
  {
   "cell_type": "code",
   "execution_count": 24,
   "source": [
    "rec_df = pd.DataFrame()\r\n",
    "rec_df['user_id'] = train['user_id'].unique()"
   ],
   "outputs": [],
   "metadata": {}
  },
  {
   "cell_type": "code",
   "execution_count": 25,
   "source": [
    "sol = test.groupby(['user_id'])['book_id'].agg({'unique'}).reset_index()\r\n",
    "gt = {}\r\n",
    "for user in tqdm(sol['user_id'].unique()): \r\n",
    "    gt[user] = list(sol[sol['user_id'] == user]['unique'].values[0])"
   ],
   "outputs": [
    {
     "output_type": "display_data",
     "data": {
      "text/plain": [
       "HBox(children=(HTML(value=''), FloatProgress(value=0.0, max=53424.0), HTML(value='')))"
      ],
      "application/vnd.jupyter.widget-view+json": {
       "version_major": 2,
       "version_minor": 0,
       "model_id": "6d9a3444cec642299bcf92725540a808"
      }
     },
     "metadata": {}
    },
    {
     "output_type": "stream",
     "name": "stdout",
     "text": [
      "\n"
     ]
    }
   ],
   "metadata": {}
  },
  {
   "cell_type": "code",
   "execution_count": 26,
   "source": [
    "popular_rec_model = books.sort_values(by = 'books_count', ascending = False)['book_id'].values[:500]"
   ],
   "outputs": [],
   "metadata": {}
  },
  {
   "cell_type": "code",
   "execution_count": 28,
   "source": [
    "total_rec_list = {}\r\n",
    "for user in tqdm(rec_df['user_id'].unique()):\r\n",
    "    rec_list = []\r\n",
    "    for rec in popular_rec_model[0:200]:\r\n",
    "        rec_list.append(rec)\r\n",
    "    total_rec_list[user] = rec_list "
   ],
   "outputs": [
    {
     "output_type": "display_data",
     "data": {
      "text/plain": [
       "HBox(children=(HTML(value=''), FloatProgress(value=0.0, max=53382.0), HTML(value='')))"
      ],
      "application/vnd.jupyter.widget-view+json": {
       "version_major": 2,
       "version_minor": 0,
       "model_id": "4935347783484a4cb1da778aefee55b0"
      }
     },
     "metadata": {}
    },
    {
     "output_type": "stream",
     "name": "stdout",
     "text": [
      "\n"
     ]
    }
   ],
   "metadata": {}
  },
  {
   "cell_type": "code",
   "execution_count": 31,
   "source": [
    "import six\r\n",
    "import math\r\n",
    "\r\n",
    "# https://github.com/kakao-arena/brunch-article-recommendation/blob/master/evaluate.py\r\n",
    "\r\n",
    "class evaluate():\r\n",
    "    def __init__(self, recs, gt, topn=100):\r\n",
    "        self.recs = recs\r\n",
    "        self.gt = gt \r\n",
    "        self.topn = topn \r\n",
    "        \r\n",
    "    def _ndcg(self):\r\n",
    "        Q, S = 0.0, 0.0\r\n",
    "        for u, seen in six.iteritems(self.gt):\r\n",
    "            seen = list(set(seen))\r\n",
    "            rec = self.recs.get(u, [])\r\n",
    "            if not rec or len(seen) == 0:\r\n",
    "                continue\r\n",
    "\r\n",
    "            dcg = 0.0\r\n",
    "            idcg = sum([1.0 / math.log(i + 2, 2) for i in range(min(len(seen), len(rec)))])\r\n",
    "            for i, r in enumerate(rec):\r\n",
    "                if r not in seen:\r\n",
    "                    continue\r\n",
    "                rank = i + 1\r\n",
    "                dcg += 1.0 / math.log(rank + 1, 2)\r\n",
    "            ndcg = dcg / idcg\r\n",
    "            S += ndcg\r\n",
    "            Q += 1\r\n",
    "        return S / Q\r\n",
    "\r\n",
    "\r\n",
    "    def _map(self):\r\n",
    "        n, ap = 0.0, 0.0\r\n",
    "        for u, seen in six.iteritems(self.gt):\r\n",
    "            seen = list(set(seen))\r\n",
    "            rec = self.recs.get(u, [])\r\n",
    "            if not rec or len(seen) == 0:\r\n",
    "                continue\r\n",
    "\r\n",
    "            _ap, correct = 0.0, 0.0\r\n",
    "            for i, r in enumerate(rec):\r\n",
    "                if r in seen:\r\n",
    "                    correct += 1\r\n",
    "                    _ap += (correct / (i + 1.0))\r\n",
    "            _ap /= min(len(seen), len(rec))\r\n",
    "            ap += _ap\r\n",
    "            n += 1.0\r\n",
    "        return ap / n\r\n",
    "\r\n",
    "\r\n",
    "    def _entropy_diversity(self):\r\n",
    "        sz = float(len(self.recs)) * self.topn\r\n",
    "        freq = {}\r\n",
    "        for u, rec in six.iteritems(self.recs):\r\n",
    "            for r in rec:\r\n",
    "                freq[r] = freq.get(r, 0) + 1\r\n",
    "        ent = -sum([v / sz * math.log(v / sz) for v in six.itervalues(freq)])\r\n",
    "        return ent\r\n",
    "    \r\n",
    "    def _evaluate(self):\r\n",
    "        print('MAP@%s: %s' % (self.topn, self._map()))\r\n",
    "        print('NDCG@%s: %s' % (self.topn, self._ndcg()))\r\n",
    "        print('EntDiv@%s: %s' % (self.topn, self._entropy_diversity()))"
   ],
   "outputs": [],
   "metadata": {}
  },
  {
   "cell_type": "code",
   "execution_count": 32,
   "source": [
    "evaluate_func = evaluate(recs=total_rec_list, gt = gt, topn=200)\r\n",
    "evaluate_func._evaluate()"
   ],
   "outputs": [
    {
     "output_type": "stream",
     "name": "stdout",
     "text": [
      "MAP@200: 0.0\n",
      "NDCG@200: 0.0\n",
      "EntDiv@200: 5.298317366548021\n"
     ]
    }
   ],
   "metadata": {}
  },
  {
   "cell_type": "code",
   "execution_count": 33,
   "source": [
    "train = pd.merge(train, books[['book_id', 'authors', 'ratings_count']], how='left', on='book_id')"
   ],
   "outputs": [],
   "metadata": {}
  },
  {
   "cell_type": "code",
   "execution_count": 34,
   "source": [
    "agg = train.groupby(['user_id','authors'])['authors'].agg({'count'}).reset_index()\r\n",
    "agg = agg.sort_values(by='count', ascending=False)\r\n",
    "agg.head()"
   ],
   "outputs": [
    {
     "output_type": "execute_result",
     "data": {
      "text/plain": [
       "       user_id                                         authors  count\n",
       "5866      9731                                     Bill Bryson      8\n",
       "19610    32055                                     Bill Bryson      8\n",
       "17669    28600                                Michael Crichton      7\n",
       "590       1185                              Arthur Conan Doyle      6\n",
       "6282     10335  Johanna Spyri, Angelo  Rinaldi, Beverly Cleary      6"
      ],
      "text/html": [
       "<div>\n",
       "<style scoped>\n",
       "    .dataframe tbody tr th:only-of-type {\n",
       "        vertical-align: middle;\n",
       "    }\n",
       "\n",
       "    .dataframe tbody tr th {\n",
       "        vertical-align: top;\n",
       "    }\n",
       "\n",
       "    .dataframe thead th {\n",
       "        text-align: right;\n",
       "    }\n",
       "</style>\n",
       "<table border=\"1\" class=\"dataframe\">\n",
       "  <thead>\n",
       "    <tr style=\"text-align: right;\">\n",
       "      <th></th>\n",
       "      <th>user_id</th>\n",
       "      <th>authors</th>\n",
       "      <th>count</th>\n",
       "    </tr>\n",
       "  </thead>\n",
       "  <tbody>\n",
       "    <tr>\n",
       "      <th>5866</th>\n",
       "      <td>9731</td>\n",
       "      <td>Bill Bryson</td>\n",
       "      <td>8</td>\n",
       "    </tr>\n",
       "    <tr>\n",
       "      <th>19610</th>\n",
       "      <td>32055</td>\n",
       "      <td>Bill Bryson</td>\n",
       "      <td>8</td>\n",
       "    </tr>\n",
       "    <tr>\n",
       "      <th>17669</th>\n",
       "      <td>28600</td>\n",
       "      <td>Michael Crichton</td>\n",
       "      <td>7</td>\n",
       "    </tr>\n",
       "    <tr>\n",
       "      <th>590</th>\n",
       "      <td>1185</td>\n",
       "      <td>Arthur Conan Doyle</td>\n",
       "      <td>6</td>\n",
       "    </tr>\n",
       "    <tr>\n",
       "      <th>6282</th>\n",
       "      <td>10335</td>\n",
       "      <td>Johanna Spyri, Angelo  Rinaldi, Beverly Cleary</td>\n",
       "      <td>6</td>\n",
       "    </tr>\n",
       "  </tbody>\n",
       "</table>\n",
       "</div>"
      ]
     },
     "metadata": {},
     "execution_count": 34
    }
   ],
   "metadata": {}
  },
  {
   "cell_type": "code",
   "execution_count": 35,
   "source": [
    "author_books = books[['book_id', 'authors', 'ratings_count']].sort_values(by=['authors', 'ratings_count'], ascending=[True, False])\r\n",
    "author_books = author_books.reset_index(drop=True)\r\n",
    "\r\n",
    "author_books.head()"
   ],
   "outputs": [
    {
     "output_type": "execute_result",
     "data": {
      "text/plain": [
       "    book_id                        authors  ratings_count\n",
       "0    101911               A. Manette Ansay          23966\n",
       "1  16081754            A. Meredith Walters          24615\n",
       "2  16102880            A. Meredith Walters          24287\n",
       "3     99107  A.A. Milne, Ernest H. Shepard         207550\n",
       "4    776407  A.A. Milne, Ernest H. Shepard          69102"
      ],
      "text/html": [
       "<div>\n",
       "<style scoped>\n",
       "    .dataframe tbody tr th:only-of-type {\n",
       "        vertical-align: middle;\n",
       "    }\n",
       "\n",
       "    .dataframe tbody tr th {\n",
       "        vertical-align: top;\n",
       "    }\n",
       "\n",
       "    .dataframe thead th {\n",
       "        text-align: right;\n",
       "    }\n",
       "</style>\n",
       "<table border=\"1\" class=\"dataframe\">\n",
       "  <thead>\n",
       "    <tr style=\"text-align: right;\">\n",
       "      <th></th>\n",
       "      <th>book_id</th>\n",
       "      <th>authors</th>\n",
       "      <th>ratings_count</th>\n",
       "    </tr>\n",
       "  </thead>\n",
       "  <tbody>\n",
       "    <tr>\n",
       "      <th>0</th>\n",
       "      <td>101911</td>\n",
       "      <td>A. Manette Ansay</td>\n",
       "      <td>23966</td>\n",
       "    </tr>\n",
       "    <tr>\n",
       "      <th>1</th>\n",
       "      <td>16081754</td>\n",
       "      <td>A. Meredith Walters</td>\n",
       "      <td>24615</td>\n",
       "    </tr>\n",
       "    <tr>\n",
       "      <th>2</th>\n",
       "      <td>16102880</td>\n",
       "      <td>A. Meredith Walters</td>\n",
       "      <td>24287</td>\n",
       "    </tr>\n",
       "    <tr>\n",
       "      <th>3</th>\n",
       "      <td>99107</td>\n",
       "      <td>A.A. Milne, Ernest H. Shepard</td>\n",
       "      <td>207550</td>\n",
       "    </tr>\n",
       "    <tr>\n",
       "      <th>4</th>\n",
       "      <td>776407</td>\n",
       "      <td>A.A. Milne, Ernest H. Shepard</td>\n",
       "      <td>69102</td>\n",
       "    </tr>\n",
       "  </tbody>\n",
       "</table>\n",
       "</div>"
      ]
     },
     "metadata": {},
     "execution_count": 35
    }
   ],
   "metadata": {}
  },
  {
   "cell_type": "code",
   "execution_count": 36,
   "source": [
    "author_rec_model = agg.merge(author_books, how='left', on=['authors'])\r\n",
    "author_rec_model.head()"
   ],
   "outputs": [
    {
     "output_type": "execute_result",
     "data": {
      "text/plain": [
       "   user_id      authors  count  book_id  ratings_count\n",
       "0     9731  Bill Bryson      8     9791         250192\n",
       "1     9731  Bill Bryson      8       21         191535\n",
       "2     9731  Bill Bryson      8       28          66947\n",
       "3     9731  Bill Bryson      8       24          58688\n",
       "4     9731  Bill Bryson      8  7507825          55296"
      ],
      "text/html": [
       "<div>\n",
       "<style scoped>\n",
       "    .dataframe tbody tr th:only-of-type {\n",
       "        vertical-align: middle;\n",
       "    }\n",
       "\n",
       "    .dataframe tbody tr th {\n",
       "        vertical-align: top;\n",
       "    }\n",
       "\n",
       "    .dataframe thead th {\n",
       "        text-align: right;\n",
       "    }\n",
       "</style>\n",
       "<table border=\"1\" class=\"dataframe\">\n",
       "  <thead>\n",
       "    <tr style=\"text-align: right;\">\n",
       "      <th></th>\n",
       "      <th>user_id</th>\n",
       "      <th>authors</th>\n",
       "      <th>count</th>\n",
       "      <th>book_id</th>\n",
       "      <th>ratings_count</th>\n",
       "    </tr>\n",
       "  </thead>\n",
       "  <tbody>\n",
       "    <tr>\n",
       "      <th>0</th>\n",
       "      <td>9731</td>\n",
       "      <td>Bill Bryson</td>\n",
       "      <td>8</td>\n",
       "      <td>9791</td>\n",
       "      <td>250192</td>\n",
       "    </tr>\n",
       "    <tr>\n",
       "      <th>1</th>\n",
       "      <td>9731</td>\n",
       "      <td>Bill Bryson</td>\n",
       "      <td>8</td>\n",
       "      <td>21</td>\n",
       "      <td>191535</td>\n",
       "    </tr>\n",
       "    <tr>\n",
       "      <th>2</th>\n",
       "      <td>9731</td>\n",
       "      <td>Bill Bryson</td>\n",
       "      <td>8</td>\n",
       "      <td>28</td>\n",
       "      <td>66947</td>\n",
       "    </tr>\n",
       "    <tr>\n",
       "      <th>3</th>\n",
       "      <td>9731</td>\n",
       "      <td>Bill Bryson</td>\n",
       "      <td>8</td>\n",
       "      <td>24</td>\n",
       "      <td>58688</td>\n",
       "    </tr>\n",
       "    <tr>\n",
       "      <th>4</th>\n",
       "      <td>9731</td>\n",
       "      <td>Bill Bryson</td>\n",
       "      <td>8</td>\n",
       "      <td>7507825</td>\n",
       "      <td>55296</td>\n",
       "    </tr>\n",
       "  </tbody>\n",
       "</table>\n",
       "</div>"
      ]
     },
     "metadata": {},
     "execution_count": 36
    }
   ],
   "metadata": {}
  },
  {
   "cell_type": "code",
   "execution_count": 37,
   "source": [
    "author_rec_model[author_rec_model['user_id'] == 30944]['book_id'].values"
   ],
   "outputs": [
    {
     "output_type": "execute_result",
     "data": {
      "text/plain": [
       "array([    9791,       21,       28,       24,  7507825,       25,\n",
       "          10538,       27,       26, 17262366,   135611,       29,\n",
       "       25489012,    10541,     1715,      446,    50618,      447,\n",
       "        6345193,      432,      456,    10006,      449,        5,\n",
       "            599,      597,    24475,  6386555,    24476,  2159007,\n",
       "           1633], dtype=int64)"
      ]
     },
     "metadata": {},
     "execution_count": 37
    }
   ],
   "metadata": {}
  },
  {
   "cell_type": "code",
   "execution_count": 38,
   "source": [
    "total_rec_list = {}\r\n",
    "for user in tqdm(rec_df['user_id'].unique()):\r\n",
    "    rec_list = []\r\n",
    "    author_rec_model_ = author_rec_model[author_rec_model['user_id'] == user]['book_id'].values\r\n",
    "    for rec in author_rec_model_: \r\n",
    "        rec_list.append(rec)\r\n",
    "    \r\n",
    "    if len(rec_list) < 200:\r\n",
    "        for i in popular_rec_model[0:200]:\r\n",
    "            rec_list.append(rec)\r\n",
    "        \r\n",
    "    total_rec_list[user] = rec_list[0:200]"
   ],
   "outputs": [
    {
     "output_type": "display_data",
     "data": {
      "text/plain": [
       "HBox(children=(HTML(value=''), FloatProgress(value=0.0, max=53382.0), HTML(value='')))"
      ],
      "application/vnd.jupyter.widget-view+json": {
       "version_major": 2,
       "version_minor": 0,
       "model_id": "98e9174f26064782aa90094f3c5edf03"
      }
     },
     "metadata": {}
    },
    {
     "output_type": "stream",
     "name": "stdout",
     "text": [
      "\n"
     ]
    }
   ],
   "metadata": {}
  },
  {
   "cell_type": "code",
   "execution_count": 39,
   "source": [
    "evaluate_func = evaluate(recs=total_rec_list, gt = gt, topn=200)\r\n",
    "evaluate_func._evaluate()"
   ],
   "outputs": [
    {
     "output_type": "stream",
     "name": "stdout",
     "text": [
      "MAP@200: 0.08722925928891606\n",
      "NDCG@200: 0.018830978525207494\n",
      "EntDiv@200: 5.8416214483807245\n"
     ]
    }
   ],
   "metadata": {}
  },
  {
   "cell_type": "code",
   "execution_count": 40,
   "source": [
    "read_list = train.groupby(['user_id'])['book_id'].agg({'unique'}).reset_index()\r\n",
    "read_list.head()"
   ],
   "outputs": [
    {
     "output_type": "execute_result",
     "data": {
      "text/plain": [
       "   user_id        unique\n",
       "0        1        [4893]\n",
       "1        2        [8034]\n",
       "2        3        [9014]\n",
       "3        4        [8464]\n",
       "4        5  [6703, 4829]"
      ],
      "text/html": [
       "<div>\n",
       "<style scoped>\n",
       "    .dataframe tbody tr th:only-of-type {\n",
       "        vertical-align: middle;\n",
       "    }\n",
       "\n",
       "    .dataframe tbody tr th {\n",
       "        vertical-align: top;\n",
       "    }\n",
       "\n",
       "    .dataframe thead th {\n",
       "        text-align: right;\n",
       "    }\n",
       "</style>\n",
       "<table border=\"1\" class=\"dataframe\">\n",
       "  <thead>\n",
       "    <tr style=\"text-align: right;\">\n",
       "      <th></th>\n",
       "      <th>user_id</th>\n",
       "      <th>unique</th>\n",
       "    </tr>\n",
       "  </thead>\n",
       "  <tbody>\n",
       "    <tr>\n",
       "      <th>0</th>\n",
       "      <td>1</td>\n",
       "      <td>[4893]</td>\n",
       "    </tr>\n",
       "    <tr>\n",
       "      <th>1</th>\n",
       "      <td>2</td>\n",
       "      <td>[8034]</td>\n",
       "    </tr>\n",
       "    <tr>\n",
       "      <th>2</th>\n",
       "      <td>3</td>\n",
       "      <td>[9014]</td>\n",
       "    </tr>\n",
       "    <tr>\n",
       "      <th>3</th>\n",
       "      <td>4</td>\n",
       "      <td>[8464]</td>\n",
       "    </tr>\n",
       "    <tr>\n",
       "      <th>4</th>\n",
       "      <td>5</td>\n",
       "      <td>[6703, 4829]</td>\n",
       "    </tr>\n",
       "  </tbody>\n",
       "</table>\n",
       "</div>"
      ]
     },
     "metadata": {},
     "execution_count": 40
    }
   ],
   "metadata": {}
  },
  {
   "cell_type": "code",
   "execution_count": 41,
   "source": [
    "total_rec_list = {}\r\n",
    "for user in tqdm(rec_df['user_id'].unique()):\r\n",
    "    rec_list = []\r\n",
    "    author_rec_model_ = author_rec_model[author_rec_model['user_id'] == user]['book_id'].values\r\n",
    "    seen = read_list[read_list['user_id'] == user]['unique'].values[0]\r\n",
    "    for rec in author_rec_model_: \r\n",
    "        if rec not in seen:\r\n",
    "            rec_list.append(rec)\r\n",
    "    \r\n",
    "    if len(rec_list) < 200:\r\n",
    "        for i in popular_rec_model[0:200]:\r\n",
    "            if rec not in seen:\r\n",
    "                rec_list.append(rec)\r\n",
    "\r\n",
    "    total_rec_list[user] = rec_list[0:200]"
   ],
   "outputs": [
    {
     "output_type": "display_data",
     "data": {
      "text/plain": [
       "HBox(children=(HTML(value=''), FloatProgress(value=0.0, max=53382.0), HTML(value='')))"
      ],
      "application/vnd.jupyter.widget-view+json": {
       "version_major": 2,
       "version_minor": 0,
       "model_id": "2a430310cffb4f309885119787be1fed"
      }
     },
     "metadata": {}
    },
    {
     "output_type": "stream",
     "name": "stdout",
     "text": [
      "\n"
     ]
    }
   ],
   "metadata": {}
  },
  {
   "cell_type": "code",
   "execution_count": 42,
   "source": [
    "evaluate_func = evaluate(recs=total_rec_list, gt = gt, topn=200)\r\n",
    "evaluate_func._evaluate()"
   ],
   "outputs": [
    {
     "output_type": "stream",
     "name": "stdout",
     "text": [
      "MAP@200: 0.05637773079633545\n",
      "NDCG@200: 0.012035855451876305\n",
      "EntDiv@200: 5.076768062387068\n"
     ]
    }
   ],
   "metadata": {}
  },
  {
   "cell_type": "code",
   "execution_count": 43,
   "source": [
    "language = pd.merge(train, books[['book_id', 'language_code']], how='left', on='book_id')"
   ],
   "outputs": [],
   "metadata": {}
  },
  {
   "cell_type": "code",
   "execution_count": 44,
   "source": [
    "language_list = language.groupby(['user_id'])['language_code'].agg({'unique'}).reset_index()\r\n",
    "language_list.head()"
   ],
   "outputs": [
    {
     "output_type": "execute_result",
     "data": {
      "text/plain": [
       "   user_id unique\n",
       "0        1  [nan]\n",
       "1        2  [nan]\n",
       "2        3  [eng]\n",
       "3        4  [nan]\n",
       "4        5  [nan]"
      ],
      "text/html": [
       "<div>\n",
       "<style scoped>\n",
       "    .dataframe tbody tr th:only-of-type {\n",
       "        vertical-align: middle;\n",
       "    }\n",
       "\n",
       "    .dataframe tbody tr th {\n",
       "        vertical-align: top;\n",
       "    }\n",
       "\n",
       "    .dataframe thead th {\n",
       "        text-align: right;\n",
       "    }\n",
       "</style>\n",
       "<table border=\"1\" class=\"dataframe\">\n",
       "  <thead>\n",
       "    <tr style=\"text-align: right;\">\n",
       "      <th></th>\n",
       "      <th>user_id</th>\n",
       "      <th>unique</th>\n",
       "    </tr>\n",
       "  </thead>\n",
       "  <tbody>\n",
       "    <tr>\n",
       "      <th>0</th>\n",
       "      <td>1</td>\n",
       "      <td>[nan]</td>\n",
       "    </tr>\n",
       "    <tr>\n",
       "      <th>1</th>\n",
       "      <td>2</td>\n",
       "      <td>[nan]</td>\n",
       "    </tr>\n",
       "    <tr>\n",
       "      <th>2</th>\n",
       "      <td>3</td>\n",
       "      <td>[eng]</td>\n",
       "    </tr>\n",
       "    <tr>\n",
       "      <th>3</th>\n",
       "      <td>4</td>\n",
       "      <td>[nan]</td>\n",
       "    </tr>\n",
       "    <tr>\n",
       "      <th>4</th>\n",
       "      <td>5</td>\n",
       "      <td>[nan]</td>\n",
       "    </tr>\n",
       "  </tbody>\n",
       "</table>\n",
       "</div>"
      ]
     },
     "metadata": {},
     "execution_count": 44
    }
   ],
   "metadata": {}
  },
  {
   "cell_type": "code",
   "execution_count": null,
   "source": [],
   "outputs": [],
   "metadata": {}
  },
  {
   "cell_type": "code",
   "execution_count": null,
   "source": [],
   "outputs": [],
   "metadata": {}
  }
 ],
 "metadata": {
  "orig_nbformat": 4,
  "language_info": {
   "name": "python",
   "version": "3.8.5",
   "mimetype": "text/x-python",
   "codemirror_mode": {
    "name": "ipython",
    "version": 3
   },
   "pygments_lexer": "ipython3",
   "nbconvert_exporter": "python",
   "file_extension": ".py"
  },
  "kernelspec": {
   "name": "python3",
   "display_name": "Python 3.8.5 64-bit ('base': conda)"
  },
  "interpreter": {
   "hash": "96cf18f209edf6220e7043c3825950920f4c7ad96ff42ffae85e8b73f5a9541f"
  }
 },
 "nbformat": 4,
 "nbformat_minor": 2
}