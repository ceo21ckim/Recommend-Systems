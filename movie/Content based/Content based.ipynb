{
 "metadata": {
  "language_info": {
   "codemirror_mode": {
    "name": "ipython",
    "version": 3
   },
   "file_extension": ".py",
   "mimetype": "text/x-python",
   "name": "python",
   "nbconvert_exporter": "python",
   "pygments_lexer": "ipython3",
   "version": "3.8.5"
  },
  "orig_nbformat": 4,
  "kernelspec": {
   "name": "python3",
   "display_name": "Python 3.8.5 64-bit ('base': conda)"
  },
  "interpreter": {
   "hash": "96cf18f209edf6220e7043c3825950920f4c7ad96ff42ffae85e8b73f5a9541f"
  }
 },
 "nbformat": 4,
 "nbformat_minor": 2,
 "cells": [
  {
   "source": [
    "# Content based filtering"
   ],
   "cell_type": "markdown",
   "metadata": {}
  },
  {
   "cell_type": "code",
   "execution_count": 20,
   "metadata": {},
   "outputs": [],
   "source": [
    "import pandas as pd\n",
    "import numpy as np\n",
    "import matplotlib.pyplot as plt\n",
    "import seaborn as sns\n",
    "from sklearn.feature_extraction.text import TfidfVectorizer\n",
    "from sklearn.metrics.pairwise import linear_kernel"
   ]
  },
  {
   "cell_type": "code",
   "execution_count": 4,
   "metadata": {},
   "outputs": [
    {
     "output_type": "stream",
     "name": "stderr",
     "text": [
      "C:\\Users\\EonKim\\anaconda3\\lib\\site-packages\\IPython\\core\\interactiveshell.py:3146: DtypeWarning: Columns (10) have mixed types.Specify dtype option on import or set low_memory=False.\n  has_raised = await self.run_ast_nodes(code_ast.body, cell_name,\n"
     ]
    }
   ],
   "source": [
    "movie = pd.read_csv('movies_metadata.csv')"
   ]
  },
  {
   "cell_type": "code",
   "execution_count": 10,
   "metadata": {},
   "outputs": [
    {
     "output_type": "stream",
     "name": "stdout",
     "text": [
      "(31000, 24)\n"
     ]
    },
    {
     "output_type": "execute_result",
     "data": {
      "text/plain": [
       "   adult                              belongs_to_collection    budget  \\\n",
       "0  False  {'id': 10194, 'name': 'Toy Story Collection', ...  30000000   \n",
       "1  False                                                NaN  65000000   \n",
       "2  False  {'id': 119050, 'name': 'Grumpy Old Men Collect...         0   \n",
       "3  False                                                NaN  16000000   \n",
       "4  False  {'id': 96871, 'name': 'Father of the Bride Col...         0   \n",
       "\n",
       "                                              genres  \\\n",
       "0  [{'id': 16, 'name': 'Animation'}, {'id': 35, '...   \n",
       "1  [{'id': 12, 'name': 'Adventure'}, {'id': 14, '...   \n",
       "2  [{'id': 10749, 'name': 'Romance'}, {'id': 35, ...   \n",
       "3  [{'id': 35, 'name': 'Comedy'}, {'id': 18, 'nam...   \n",
       "4                     [{'id': 35, 'name': 'Comedy'}]   \n",
       "\n",
       "                               homepage     id    imdb_id original_language  \\\n",
       "0  http://toystory.disney.com/toy-story    862  tt0114709                en   \n",
       "1                                   NaN   8844  tt0113497                en   \n",
       "2                                   NaN  15602  tt0113228                en   \n",
       "3                                   NaN  31357  tt0114885                en   \n",
       "4                                   NaN  11862  tt0113041                en   \n",
       "\n",
       "                original_title  \\\n",
       "0                    Toy Story   \n",
       "1                      Jumanji   \n",
       "2             Grumpier Old Men   \n",
       "3            Waiting to Exhale   \n",
       "4  Father of the Bride Part II   \n",
       "\n",
       "                                            overview  ... release_date  \\\n",
       "0  Led by Woody, Andy's toys live happily in his ...  ...   1995-10-30   \n",
       "1  When siblings Judy and Peter discover an encha...  ...   1995-12-15   \n",
       "2  A family wedding reignites the ancient feud be...  ...   1995-12-22   \n",
       "3  Cheated on, mistreated and stepped on, the wom...  ...   1995-12-22   \n",
       "4  Just when George Banks has recovered from his ...  ...   1995-02-10   \n",
       "\n",
       "       revenue runtime                                   spoken_languages  \\\n",
       "0  373554033.0    81.0           [{'iso_639_1': 'en', 'name': 'English'}]   \n",
       "1  262797249.0   104.0  [{'iso_639_1': 'en', 'name': 'English'}, {'iso...   \n",
       "2          0.0   101.0           [{'iso_639_1': 'en', 'name': 'English'}]   \n",
       "3   81452156.0   127.0           [{'iso_639_1': 'en', 'name': 'English'}]   \n",
       "4   76578911.0   106.0           [{'iso_639_1': 'en', 'name': 'English'}]   \n",
       "\n",
       "     status                                            tagline  \\\n",
       "0  Released                                                NaN   \n",
       "1  Released          Roll the dice and unleash the excitement!   \n",
       "2  Released  Still Yelling. Still Fighting. Still Ready for...   \n",
       "3  Released  Friends are the people who let you be yourself...   \n",
       "4  Released  Just When His World Is Back To Normal... He's ...   \n",
       "\n",
       "                         title  video vote_average vote_count  \n",
       "0                    Toy Story  False          7.7     5415.0  \n",
       "1                      Jumanji  False          6.9     2413.0  \n",
       "2             Grumpier Old Men  False          6.5       92.0  \n",
       "3            Waiting to Exhale  False          6.1       34.0  \n",
       "4  Father of the Bride Part II  False          5.7      173.0  \n",
       "\n",
       "[5 rows x 24 columns]"
      ],
      "text/html": "<div>\n<style scoped>\n    .dataframe tbody tr th:only-of-type {\n        vertical-align: middle;\n    }\n\n    .dataframe tbody tr th {\n        vertical-align: top;\n    }\n\n    .dataframe thead th {\n        text-align: right;\n    }\n</style>\n<table border=\"1\" class=\"dataframe\">\n  <thead>\n    <tr style=\"text-align: right;\">\n      <th></th>\n      <th>adult</th>\n      <th>belongs_to_collection</th>\n      <th>budget</th>\n      <th>genres</th>\n      <th>homepage</th>\n      <th>id</th>\n      <th>imdb_id</th>\n      <th>original_language</th>\n      <th>original_title</th>\n      <th>overview</th>\n      <th>...</th>\n      <th>release_date</th>\n      <th>revenue</th>\n      <th>runtime</th>\n      <th>spoken_languages</th>\n      <th>status</th>\n      <th>tagline</th>\n      <th>title</th>\n      <th>video</th>\n      <th>vote_average</th>\n      <th>vote_count</th>\n    </tr>\n  </thead>\n  <tbody>\n    <tr>\n      <th>0</th>\n      <td>False</td>\n      <td>{'id': 10194, 'name': 'Toy Story Collection', ...</td>\n      <td>30000000</td>\n      <td>[{'id': 16, 'name': 'Animation'}, {'id': 35, '...</td>\n      <td>http://toystory.disney.com/toy-story</td>\n      <td>862</td>\n      <td>tt0114709</td>\n      <td>en</td>\n      <td>Toy Story</td>\n      <td>Led by Woody, Andy's toys live happily in his ...</td>\n      <td>...</td>\n      <td>1995-10-30</td>\n      <td>373554033.0</td>\n      <td>81.0</td>\n      <td>[{'iso_639_1': 'en', 'name': 'English'}]</td>\n      <td>Released</td>\n      <td>NaN</td>\n      <td>Toy Story</td>\n      <td>False</td>\n      <td>7.7</td>\n      <td>5415.0</td>\n    </tr>\n    <tr>\n      <th>1</th>\n      <td>False</td>\n      <td>NaN</td>\n      <td>65000000</td>\n      <td>[{'id': 12, 'name': 'Adventure'}, {'id': 14, '...</td>\n      <td>NaN</td>\n      <td>8844</td>\n      <td>tt0113497</td>\n      <td>en</td>\n      <td>Jumanji</td>\n      <td>When siblings Judy and Peter discover an encha...</td>\n      <td>...</td>\n      <td>1995-12-15</td>\n      <td>262797249.0</td>\n      <td>104.0</td>\n      <td>[{'iso_639_1': 'en', 'name': 'English'}, {'iso...</td>\n      <td>Released</td>\n      <td>Roll the dice and unleash the excitement!</td>\n      <td>Jumanji</td>\n      <td>False</td>\n      <td>6.9</td>\n      <td>2413.0</td>\n    </tr>\n    <tr>\n      <th>2</th>\n      <td>False</td>\n      <td>{'id': 119050, 'name': 'Grumpy Old Men Collect...</td>\n      <td>0</td>\n      <td>[{'id': 10749, 'name': 'Romance'}, {'id': 35, ...</td>\n      <td>NaN</td>\n      <td>15602</td>\n      <td>tt0113228</td>\n      <td>en</td>\n      <td>Grumpier Old Men</td>\n      <td>A family wedding reignites the ancient feud be...</td>\n      <td>...</td>\n      <td>1995-12-22</td>\n      <td>0.0</td>\n      <td>101.0</td>\n      <td>[{'iso_639_1': 'en', 'name': 'English'}]</td>\n      <td>Released</td>\n      <td>Still Yelling. Still Fighting. Still Ready for...</td>\n      <td>Grumpier Old Men</td>\n      <td>False</td>\n      <td>6.5</td>\n      <td>92.0</td>\n    </tr>\n    <tr>\n      <th>3</th>\n      <td>False</td>\n      <td>NaN</td>\n      <td>16000000</td>\n      <td>[{'id': 35, 'name': 'Comedy'}, {'id': 18, 'nam...</td>\n      <td>NaN</td>\n      <td>31357</td>\n      <td>tt0114885</td>\n      <td>en</td>\n      <td>Waiting to Exhale</td>\n      <td>Cheated on, mistreated and stepped on, the wom...</td>\n      <td>...</td>\n      <td>1995-12-22</td>\n      <td>81452156.0</td>\n      <td>127.0</td>\n      <td>[{'iso_639_1': 'en', 'name': 'English'}]</td>\n      <td>Released</td>\n      <td>Friends are the people who let you be yourself...</td>\n      <td>Waiting to Exhale</td>\n      <td>False</td>\n      <td>6.1</td>\n      <td>34.0</td>\n    </tr>\n    <tr>\n      <th>4</th>\n      <td>False</td>\n      <td>{'id': 96871, 'name': 'Father of the Bride Col...</td>\n      <td>0</td>\n      <td>[{'id': 35, 'name': 'Comedy'}]</td>\n      <td>NaN</td>\n      <td>11862</td>\n      <td>tt0113041</td>\n      <td>en</td>\n      <td>Father of the Bride Part II</td>\n      <td>Just when George Banks has recovered from his ...</td>\n      <td>...</td>\n      <td>1995-02-10</td>\n      <td>76578911.0</td>\n      <td>106.0</td>\n      <td>[{'iso_639_1': 'en', 'name': 'English'}]</td>\n      <td>Released</td>\n      <td>Just When His World Is Back To Normal... He's ...</td>\n      <td>Father of the Bride Part II</td>\n      <td>False</td>\n      <td>5.7</td>\n      <td>173.0</td>\n    </tr>\n  </tbody>\n</table>\n<p>5 rows × 24 columns</p>\n</div>"
     },
     "metadata": {},
     "execution_count": 10
    }
   ],
   "source": [
    "#Read in the data\n",
    "df = movie[:31000]\n",
    "print(df.shape)\n",
    "df.head()"
   ]
  },
  {
   "cell_type": "code",
   "execution_count": 11,
   "metadata": {},
   "outputs": [
    {
     "output_type": "execute_result",
     "data": {
      "text/plain": [
       "            revenue       runtime  vote_average    vote_count\n",
       "count  3.099600e+04  30912.000000  30996.000000  30996.000000\n",
       "mean   1.493675e+07     97.307130      5.776065    143.232256\n",
       "std    7.362557e+07     34.235179      1.725090    569.236382\n",
       "min    0.000000e+00      0.000000      0.000000      0.000000\n",
       "25%    0.000000e+00     87.000000      5.200000      4.000000\n",
       "50%    0.000000e+00     96.000000      6.100000     14.000000\n",
       "75%    0.000000e+00    108.000000      6.800000     52.000000\n",
       "max    2.787965e+09   1256.000000     10.000000  14075.000000"
      ],
      "text/html": "<div>\n<style scoped>\n    .dataframe tbody tr th:only-of-type {\n        vertical-align: middle;\n    }\n\n    .dataframe tbody tr th {\n        vertical-align: top;\n    }\n\n    .dataframe thead th {\n        text-align: right;\n    }\n</style>\n<table border=\"1\" class=\"dataframe\">\n  <thead>\n    <tr style=\"text-align: right;\">\n      <th></th>\n      <th>revenue</th>\n      <th>runtime</th>\n      <th>vote_average</th>\n      <th>vote_count</th>\n    </tr>\n  </thead>\n  <tbody>\n    <tr>\n      <th>count</th>\n      <td>3.099600e+04</td>\n      <td>30912.000000</td>\n      <td>30996.000000</td>\n      <td>30996.000000</td>\n    </tr>\n    <tr>\n      <th>mean</th>\n      <td>1.493675e+07</td>\n      <td>97.307130</td>\n      <td>5.776065</td>\n      <td>143.232256</td>\n    </tr>\n    <tr>\n      <th>std</th>\n      <td>7.362557e+07</td>\n      <td>34.235179</td>\n      <td>1.725090</td>\n      <td>569.236382</td>\n    </tr>\n    <tr>\n      <th>min</th>\n      <td>0.000000e+00</td>\n      <td>0.000000</td>\n      <td>0.000000</td>\n      <td>0.000000</td>\n    </tr>\n    <tr>\n      <th>25%</th>\n      <td>0.000000e+00</td>\n      <td>87.000000</td>\n      <td>5.200000</td>\n      <td>4.000000</td>\n    </tr>\n    <tr>\n      <th>50%</th>\n      <td>0.000000e+00</td>\n      <td>96.000000</td>\n      <td>6.100000</td>\n      <td>14.000000</td>\n    </tr>\n    <tr>\n      <th>75%</th>\n      <td>0.000000e+00</td>\n      <td>108.000000</td>\n      <td>6.800000</td>\n      <td>52.000000</td>\n    </tr>\n    <tr>\n      <th>max</th>\n      <td>2.787965e+09</td>\n      <td>1256.000000</td>\n      <td>10.000000</td>\n      <td>14075.000000</td>\n    </tr>\n  </tbody>\n</table>\n</div>"
     },
     "metadata": {},
     "execution_count": 11
    }
   ],
   "source": [
    "df.describe() # num_col = ['revenue', 'runtime', 'vote_average', 'vote_count']"
   ]
  },
  {
   "cell_type": "code",
   "execution_count": 12,
   "metadata": {},
   "outputs": [
    {
     "output_type": "stream",
     "name": "stdout",
     "text": [
      "<class 'pandas.core.frame.DataFrame'>\nRangeIndex: 31000 entries, 0 to 30999\nData columns (total 24 columns):\n #   Column                 Non-Null Count  Dtype  \n---  ------                 --------------  -----  \n 0   adult                  31000 non-null  object \n 1   belongs_to_collection  3469 non-null   object \n 2   budget                 31000 non-null  object \n 3   genres                 31000 non-null  object \n 4   homepage               5044 non-null   object \n 5   id                     31000 non-null  object \n 6   imdb_id                30988 non-null  object \n 7   original_language      30997 non-null  object \n 8   original_title         31000 non-null  object \n 9   overview               30626 non-null  object \n 10  popularity             30996 non-null  object \n 11  poster_path            30831 non-null  object \n 12  production_companies   30998 non-null  object \n 13  production_countries   30998 non-null  object \n 14  release_date           30967 non-null  object \n 15  revenue                30996 non-null  float64\n 16  runtime                30912 non-null  float64\n 17  spoken_languages       30996 non-null  object \n 18  status                 30951 non-null  object \n 19  tagline                16213 non-null  object \n 20  title                  30996 non-null  object \n 21  video                  30996 non-null  object \n 22  vote_average           30996 non-null  float64\n 23  vote_count             30996 non-null  float64\ndtypes: float64(4), object(20)\nmemory usage: 5.7+ MB\n"
     ]
    }
   ],
   "source": [
    "df.info()"
   ]
  },
  {
   "cell_type": "code",
   "execution_count": 14,
   "metadata": {},
   "outputs": [
    {
     "output_type": "execute_result",
     "data": {
      "text/plain": [
       "adult                        0\n",
       "belongs_to_collection    27531\n",
       "budget                       0\n",
       "genres                       0\n",
       "homepage                 25956\n",
       "id                           0\n",
       "imdb_id                     12\n",
       "original_language            3\n",
       "original_title               0\n",
       "overview                   374\n",
       "popularity                   4\n",
       "poster_path                169\n",
       "production_companies         2\n",
       "production_countries         2\n",
       "release_date                33\n",
       "revenue                      4\n",
       "runtime                     88\n",
       "spoken_languages             4\n",
       "status                      49\n",
       "tagline                  14787\n",
       "title                        4\n",
       "video                        4\n",
       "vote_average                 4\n",
       "vote_count                   4\n",
       "dtype: int64"
      ]
     },
     "metadata": {},
     "execution_count": 14
    }
   ],
   "source": [
    "df.isna().sum()"
   ]
  },
  {
   "cell_type": "code",
   "execution_count": 15,
   "metadata": {},
   "outputs": [
    {
     "output_type": "execute_result",
     "data": {
      "text/plain": [
       "0        Led by Woody, Andy's toys live happily in his ...\n",
       "1        When siblings Judy and Peter discover an encha...\n",
       "2        A family wedding reignites the ancient feud be...\n",
       "3        Cheated on, mistreated and stepped on, the wom...\n",
       "4        Just when George Banks has recovered from his ...\n",
       "                               ...                        \n",
       "30995    Spoof of the \"Taken\" franchise. An ex-CIA agen...\n",
       "30996    In the near future the earth has become desola...\n",
       "30997    Reincarnation goes horribly wrong releasing da...\n",
       "30998    Seven characters, introduced at the start of t...\n",
       "30999    After the Ball, a retail fairy tale set in the...\n",
       "Name: overview, Length: 31000, dtype: object"
      ]
     },
     "metadata": {},
     "execution_count": 15
    }
   ],
   "source": [
    "df['overview']"
   ]
  },
  {
   "cell_type": "code",
   "execution_count": 17,
   "metadata": {},
   "outputs": [
    {
     "output_type": "stream",
     "name": "stderr",
     "text": [
      "<ipython-input-17-b637f7ffff5b>:2: SettingWithCopyWarning: \n",
      "A value is trying to be set on a copy of a slice from a DataFrame.\n",
      "Try using .loc[row_indexer,col_indexer] = value instead\n",
      "\n",
      "See the caveats in the documentation: https://pandas.pydata.org/pandas-docs/stable/user_guide/indexing.html#returning-a-view-versus-a-copy\n",
      "  df['overview'] = df['overview'].fillna('')\n",
      "(31000, 59830)\n"
     ]
    },
    {
     "output_type": "execute_result",
     "data": {
      "text/plain": [
       "<31000x59830 sparse matrix of type '<class 'numpy.float64'>'\n",
       "\twith 828587 stored elements in Compressed Sparse Row format>"
      ]
     },
     "metadata": {},
     "execution_count": 17
    }
   ],
   "source": [
    "#Using TF-IDF vectorizer\n",
    "\n",
    "tfidf = TfidfVectorizer(stop_words = 'english')\n",
    "df['overview'] = df['overview'].fillna('')\n",
    "tfidf_matrix = tfidf.fit_transform(df['overview'])\n",
    "print(tfidf_matrix.shape)\n",
    "tfidf_matrix"
   ]
  },
  {
   "cell_type": "code",
   "execution_count": 23,
   "metadata": {},
   "outputs": [
    {
     "output_type": "stream",
     "name": "stdout",
     "text": [
      "cos.shape : (31000, 31000)\n"
     ]
    },
    {
     "output_type": "execute_result",
     "data": {
      "text/plain": [
       "array([[1.        , 0.01556263, 0.        , ..., 0.        , 0.01655058,\n",
       "        0.        ],\n",
       "       [0.01556263, 1.        , 0.04873332, ..., 0.        , 0.01982613,\n",
       "        0.02658255],\n",
       "       [0.        , 0.04873332, 1.        , ..., 0.01017753, 0.        ,\n",
       "        0.00434099],\n",
       "       ...,\n",
       "       [0.        , 0.        , 0.01017753, ..., 1.        , 0.        ,\n",
       "        0.        ],\n",
       "       [0.01655058, 0.01982613, 0.        , ..., 0.        , 1.        ,\n",
       "        0.00374511],\n",
       "       [0.        , 0.02658255, 0.00434099, ..., 0.        , 0.00374511,\n",
       "        1.        ]])"
      ]
     },
     "metadata": {},
     "execution_count": 23
    }
   ],
   "source": [
    "# Cosine Similarity based distance matrix \n",
    "cos = linear_kernel(tfidf_matrix, tfidf_matrix)\n",
    "print('cos.shape :',cos.shape)\n",
    "cos"
   ]
  },
  {
   "cell_type": "code",
   "execution_count": 30,
   "metadata": {},
   "outputs": [
    {
     "output_type": "execute_result",
     "data": {
      "text/plain": [
       "title\n",
       "Toy Story                      0\n",
       "Jumanji                        1\n",
       "Grumpier Old Men               2\n",
       "Waiting to Exhale              3\n",
       "Father of the Bride Part II    4\n",
       "dtype: int64"
      ]
     },
     "metadata": {},
     "execution_count": 30
    }
   ],
   "source": [
    "# 인덱스 값에 title을 지정해줌\n",
    "indices = pd.Series(df.index, index = df['title']).drop_duplicates() # 중복제거 \n",
    "indices.head()\n",
    "\n",
    "# idx 를 입력하면 거기에 해당하는 0, 1, 2, 이런 값이 출력된다 ."
   ]
  },
  {
   "cell_type": "code",
   "execution_count": 31,
   "metadata": {},
   "outputs": [
    {
     "output_type": "execute_result",
     "data": {
      "text/plain": [
       "Index([                     'Toy Story',                        'Jumanji',\n",
       "                     'Grumpier Old Men',              'Waiting to Exhale',\n",
       "          'Father of the Bride Part II',                           'Heat',\n",
       "                              'Sabrina',                   'Tom and Huck',\n",
       "                         'Sudden Death',                      'GoldenEye',\n",
       "       ...\n",
       "                          'Wild Horses',                   'Search Party',\n",
       "                           'The Living',             'Maya the Bee Movie',\n",
       "       'Extinction: Nature Has Evolved',                         'Tooken',\n",
       "                    'Battle For SkyArk',              'The Scopia Effect',\n",
       "                              'Party 7',                 'After the Ball'],\n",
       "      dtype='object', name='title', length=31000)"
      ]
     },
     "metadata": {},
     "execution_count": 31
    }
   ],
   "source": []
  },
  {
   "cell_type": "code",
   "execution_count": 51,
   "metadata": {},
   "outputs": [],
   "source": [
    "idx = indices['Iron Man'] # 해당 위치를 찾기 위함\n",
    "sim_scores = list(enumerate(cos[idx])) # 해당 idx = 영화와 각 영화들 간의 유사도를 계산\n",
    "sim_scores = sorted(sim_scores, key=lambda x: x[1], reverse=True) # 유사도 기준으로 sort해준다. 큰 순서대로 \n",
    "sim_scores = sim_scores[1:6] # 본인 영화를 제외한 top 5를 추천해준다. "
   ]
  },
  {
   "cell_type": "code",
   "execution_count": 99,
   "metadata": {},
   "outputs": [
    {
     "output_type": "execute_result",
     "data": {
      "text/plain": [
       "array([18.4, 18.3, 18.1, 15. , 14.4])"
      ]
     },
     "metadata": {},
     "execution_count": 99
    }
   ],
   "source": [
    "(np.round(sim, 3) * 100) "
   ]
  },
  {
   "cell_type": "code",
   "execution_count": 112,
   "metadata": {},
   "outputs": [
    {
     "output_type": "execute_result",
     "data": {
      "text/plain": [
       "[(7555, 0.18428462420789665),\n",
       " (15153, 0.18291269144034386),\n",
       " (28654, 0.18056705766816955),\n",
       " (15199, 0.14957211684281596),\n",
       " (20830, 0.14395829464820611)]"
      ]
     },
     "metadata": {},
     "execution_count": 112
    }
   ],
   "source": [
    "sim_scores"
   ]
  },
  {
   "cell_type": "code",
   "execution_count": 117,
   "metadata": {},
   "outputs": [
    {
     "output_type": "execute_result",
     "data": {
      "text/plain": [
       "['0.1843', '0.1829', '0.1806', '0.1496', '0.1440']"
      ]
     },
     "metadata": {},
     "execution_count": 117
    }
   ],
   "source": [
    "sim = [\"{0:.4f}\".format(i[1]) for i in sim_scores]\n",
    "sim"
   ]
  },
  {
   "cell_type": "code",
   "execution_count": 126,
   "metadata": {},
   "outputs": [],
   "source": [
    "def get_recommendations(title, cos = cos ):\n",
    "    idx = indices[title] # 해당 위치를 찾기 위함\n",
    "    sim_scores = list(enumerate(cos[idx])) # 해당 idx = 영화와 각 영화들 간의 유사도를 계산\n",
    "    sim_scores = sorted(sim_scores, key=lambda x: x[1], reverse=True) # 유사도 기준으로 sort해준다. 큰 순서대로 \n",
    "    sim_scores = sim_scores[1:6] # 본인 영화를 제외한 top 5를 추천해준다. \n",
    "    movie_indices = [i[0] for i in sim_scores] # idx에 집어넣어준다. \n",
    "    sim = [\"{0:.2f} %\".format(i[1]*100) for i in sim_scores]\n",
    "    movies=df['title'].iloc[movie_indices] # 상위 5개 종목의 idx값을 기준으로 뽑아온다 movie이름을\n",
    "    imdb_id=df['imdb_id'].iloc[movie_indices] # imdb_id도 뽑아온다\n",
    "    dict={\"Movies\":movies,\"IMDB_id\":imdb_id, 'similar(%)' : sim  } # 두 값을 dict로 묶어준다.\n",
    "    final_df=pd.DataFrame(dict) # dict를 DataFrame으로 변환\n",
    "    final_df.reset_index(drop=True,inplace=True) # idx를 새로 만들어줌\n",
    "    return final_df # return "
   ]
  },
  {
   "cell_type": "code",
   "execution_count": 127,
   "metadata": {},
   "outputs": [
    {
     "output_type": "execute_result",
     "data": {
      "text/plain": [
       "                             Movies    IMDB_id similar(%)\n",
       "0      The Wonderful Ice Cream Suit  tt0129634    18.43 %\n",
       "1                        Iron Man 2  tt1228705    18.29 %\n",
       "2                             Clown  tt1780798    18.06 %\n",
       "3  The Disappearance of Alice Creed  tt1379177    14.96 %\n",
       "4                        Iron Man 3  tt1300854    14.40 %"
      ],
      "text/html": "<div>\n<style scoped>\n    .dataframe tbody tr th:only-of-type {\n        vertical-align: middle;\n    }\n\n    .dataframe tbody tr th {\n        vertical-align: top;\n    }\n\n    .dataframe thead th {\n        text-align: right;\n    }\n</style>\n<table border=\"1\" class=\"dataframe\">\n  <thead>\n    <tr style=\"text-align: right;\">\n      <th></th>\n      <th>Movies</th>\n      <th>IMDB_id</th>\n      <th>similar(%)</th>\n    </tr>\n  </thead>\n  <tbody>\n    <tr>\n      <th>0</th>\n      <td>The Wonderful Ice Cream Suit</td>\n      <td>tt0129634</td>\n      <td>18.43 %</td>\n    </tr>\n    <tr>\n      <th>1</th>\n      <td>Iron Man 2</td>\n      <td>tt1228705</td>\n      <td>18.29 %</td>\n    </tr>\n    <tr>\n      <th>2</th>\n      <td>Clown</td>\n      <td>tt1780798</td>\n      <td>18.06 %</td>\n    </tr>\n    <tr>\n      <th>3</th>\n      <td>The Disappearance of Alice Creed</td>\n      <td>tt1379177</td>\n      <td>14.96 %</td>\n    </tr>\n    <tr>\n      <th>4</th>\n      <td>Iron Man 3</td>\n      <td>tt1300854</td>\n      <td>14.40 %</td>\n    </tr>\n  </tbody>\n</table>\n</div>"
     },
     "metadata": {},
     "execution_count": 127
    }
   ],
   "source": [
    "get_recommendations('Iron Man')"
   ]
  },
  {
   "cell_type": "code",
   "execution_count": 129,
   "metadata": {},
   "outputs": [
    {
     "output_type": "execute_result",
     "data": {
      "text/plain": [
       "                         Movies    IMDB_id similar(%)\n",
       "0  The Wonderful Ice Cream Suit  tt0129634    41.51 %\n",
       "1                     P.U.N.K.S  tt0130172    31.61 %\n",
       "2                A Wedding Suit  tt0074782    27.91 %\n",
       "3              Gorilla at Large  tt0047041    21.43 %\n",
       "4                      Iron Man  tt0371746    18.06 %"
      ],
      "text/html": "<div>\n<style scoped>\n    .dataframe tbody tr th:only-of-type {\n        vertical-align: middle;\n    }\n\n    .dataframe tbody tr th {\n        vertical-align: top;\n    }\n\n    .dataframe thead th {\n        text-align: right;\n    }\n</style>\n<table border=\"1\" class=\"dataframe\">\n  <thead>\n    <tr style=\"text-align: right;\">\n      <th></th>\n      <th>Movies</th>\n      <th>IMDB_id</th>\n      <th>similar(%)</th>\n    </tr>\n  </thead>\n  <tbody>\n    <tr>\n      <th>0</th>\n      <td>The Wonderful Ice Cream Suit</td>\n      <td>tt0129634</td>\n      <td>41.51 %</td>\n    </tr>\n    <tr>\n      <th>1</th>\n      <td>P.U.N.K.S</td>\n      <td>tt0130172</td>\n      <td>31.61 %</td>\n    </tr>\n    <tr>\n      <th>2</th>\n      <td>A Wedding Suit</td>\n      <td>tt0074782</td>\n      <td>27.91 %</td>\n    </tr>\n    <tr>\n      <th>3</th>\n      <td>Gorilla at Large</td>\n      <td>tt0047041</td>\n      <td>21.43 %</td>\n    </tr>\n    <tr>\n      <th>4</th>\n      <td>Iron Man</td>\n      <td>tt0371746</td>\n      <td>18.06 %</td>\n    </tr>\n  </tbody>\n</table>\n</div>"
     },
     "metadata": {},
     "execution_count": 129
    }
   ],
   "source": [
    "get_recommendations('Clown')"
   ]
  },
  {
   "cell_type": "code",
   "execution_count": null,
   "metadata": {},
   "outputs": [],
   "source": []
  },
  {
   "cell_type": "code",
   "execution_count": null,
   "metadata": {},
   "outputs": [],
   "source": []
  }
 ]
}